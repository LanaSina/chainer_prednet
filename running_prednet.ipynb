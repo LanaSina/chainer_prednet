{
  "nbformat": 4,
  "nbformat_minor": 0,
  "metadata": {
    "colab": {
      "name": "running_prednet.ipynb",
      "provenance": [],
      "private_outputs": true,
      "collapsed_sections": [],
      "authorship_tag": "ABX9TyOrMOSoz9zEW5hmydt91yy3",
      "include_colab_link": true
    },
    "kernelspec": {
      "name": "python3",
      "display_name": "Python 3"
    },
    "accelerator": "GPU"
  },
  "cells": [
    {
      "cell_type": "markdown",
      "metadata": {
        "id": "view-in-github",
        "colab_type": "text"
      },
      "source": [
        "<a href=\"https://colab.research.google.com/github/LanaSina/chainer_prednet/blob/master/running_prednet.ipynb\" target=\"_parent\"><img src=\"https://colab.research.google.com/assets/colab-badge.svg\" alt=\"Open In Colab\"/></a>"
      ]
    },
    {
      "cell_type": "code",
      "metadata": {
        "id": "Jo2XhWvjTa43",
        "colab_type": "code",
        "colab": {}
      },
      "source": [
        "# check python version \n",
        "# change python version through menu: Runtime -> Change runtime type\n",
        "# choose python 3 and gpu\n",
        "import sys\n",
        "print(sys.version)"
      ],
      "execution_count": 0,
      "outputs": []
    },
    {
      "cell_type": "code",
      "metadata": {
        "id": "d36jjblBTh4d",
        "colab_type": "code",
        "colab": {}
      },
      "source": [
        "# Run this cell to mount your Google Drive.\n",
        "from google.colab import drive\n",
        "drive.mount('/content/drive')"
      ],
      "execution_count": 0,
      "outputs": []
    },
    {
      "cell_type": "code",
      "metadata": {
        "id": "ffCiNu2GTn_6",
        "colab_type": "code",
        "colab": {}
      },
      "source": [
        "#libraries\n",
        "%pip install tensorboard-chainer\n",
        "%pip install -U PyYAML"
      ],
      "execution_count": 0,
      "outputs": []
    },
    {
      "cell_type": "markdown",
      "metadata": {
        "id": "xhiyGUR2TzSe",
        "colab_type": "text"
      },
      "source": [
        "Pull prednet files from github\n"
      ]
    },
    {
      "cell_type": "code",
      "metadata": {
        "id": "_qFBUceUT0At",
        "colab_type": "code",
        "colab": {}
      },
      "source": [
        "!rm -r chainer_prednet\n",
        "#!rm -r images\n",
        "  \n",
        "!git clone https://github.com/LanaSina/chainer_prednet.git --recurse-submodules\n"
      ],
      "execution_count": 0,
      "outputs": []
    },
    {
      "cell_type": "markdown",
      "metadata": {
        "id": "k6TNy8h6T-IJ",
        "colab_type": "text"
      },
      "source": [
        "Get model file and input images"
      ]
    },
    {
      "cell_type": "code",
      "metadata": {
        "id": "dGMGhN87T9A2",
        "colab_type": "code",
        "colab": {}
      },
      "source": [
        "# change to path to your own model \n",
        "!cp '/content/drive/My Drive/AI/prednet_private/fpsi_500000_20v.model' '.'\n"
      ],
      "execution_count": 0,
      "outputs": []
    },
    {
      "cell_type": "code",
      "metadata": {
        "id": "C05sb2yXULwI",
        "colab_type": "code",
        "colab": {}
      },
      "source": [
        "# change to path to your training or testing images\n",
        "!cp -r '/content/drive/My Drive/AI/prednet_private/snakes/' \".\""
      ],
      "execution_count": 0,
      "outputs": []
    },
    {
      "cell_type": "markdown",
      "metadata": {
        "id": "BuhD34pbUR8C",
        "colab_type": "text"
      },
      "source": [
        "Run network"
      ]
    },
    {
      "cell_type": "code",
      "metadata": {
        "id": "MzMHY8g0UVug",
        "colab_type": "code",
        "colab": {}
      },
      "source": [
        "!rm -r \"result\"\n",
        "# test predcting images, replace with your own input images\n",
        "# %run 'chainer_prednet/PredNet/call_prednet.py' --images 'snakes/input_images' --initmodel 'fpsi_500000_20v.model' --input_len 1 --test --g 0\n",
        "\n",
        "# test with text mode, predict 10x\n",
        "# %run 'chainer_prednet/PredNet/call_prednet.py' --seq 'snakes/sequence_list.txt' --initmodel 'fpsi_500000_20v.model' --test --g 0\n",
        "\n",
        "# test with extended prediction \n",
        "%run 'chainer_prednet/PredNet/call_prednet.py' --seq 'snakes/sequence_list.txt' --initmodel 'fpsi_500000_20v.model'  --test --g 0 --ext_t 5 --ext 3\n",
        "\n",
        "# train \n",
        "# %run 'chainer_prednet/PredNet/call_prednet.py' --images 'your/input/frames' --g 0 --save 10000 \n",
        "\n"
      ],
      "execution_count": 0,
      "outputs": []
    },
    {
      "cell_type": "code",
      "metadata": {
        "id": "V-FPkMKDOtgl",
        "colab_type": "code",
        "colab": {}
      },
      "source": [
        "# download images\n",
        "!zip -r \"result_images.zip\" \"result\" \n",
        "from google.colab import files\n",
        "files.download('result_images.zip') "
      ],
      "execution_count": 0,
      "outputs": []
    },
    {
      "cell_type": "markdown",
      "metadata": {
        "id": "qSiGQn8m4NJ0",
        "colab_type": "text"
      },
      "source": [
        "Optical Flow"
      ]
    },
    {
      "cell_type": "code",
      "metadata": {
        "id": "tXS42k2j4Pjj",
        "colab_type": "code",
        "colab": {}
      },
      "source": [
        "# Predict on 10 steps with the snakes illusion as input, \n",
        "# then perform extended prediction (ie with no input) for 5 step,\n",
        "# finally output the optical flow between the last 2 predictions\n",
        "\n",
        "# run  predictions\n",
        "%run 'chainer_prednet/PredNet/call_prednet.py' --seq 'snakes/sequence_list.txt' --initmodel 'fpsi_500000_20v.model' --test --g 0 --ext_t 10 --ext 5\n",
        "\n",
        "# get motion vectors\n",
        "%run 'chainer_prednet/optical_flow/optical_flow.py' 'result/0000000010_extended.png' 'result/0000000014_extended.png' -cc yellow -lc red -s 2 -l 2 -vs 60.0\n"
      ],
      "execution_count": 0,
      "outputs": []
    }
  ]
}