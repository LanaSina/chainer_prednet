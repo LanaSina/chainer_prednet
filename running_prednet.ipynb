{
  "nbformat": 4,
  "nbformat_minor": 0,
  "metadata": {
    "colab": {
      "name": "Prednet.ipynb",
      "provenance": [],
      "collapsed_sections": [],
      "authorship_tag": "ABX9TyN49SiKm3r51pCB+4i/qo5N",
      "include_colab_link": true
    },
    "kernelspec": {
      "name": "python3",
      "display_name": "Python 3"
    },
    "accelerator": "GPU"
  },
  "cells": [
    {
      "cell_type": "markdown",
      "metadata": {
        "id": "view-in-github",
        "colab_type": "text"
      },
      "source": [
        "<a href=\"https://colab.research.google.com/github/LanaSina/chainer_prednet/blob/master/running_prednet.ipynb\" target=\"_parent\"><img src=\"https://colab.research.google.com/assets/colab-badge.svg\" alt=\"Open In Colab\"/></a>"
      ]
    },
    {
      "cell_type": "code",
      "metadata": {
        "id": "Jo2XhWvjTa43",
        "colab_type": "code",
        "outputId": "11ba2426-1147-4a3e-b3b0-930284fae067",
        "colab": {
          "base_uri": "https://localhost:8080/",
          "height": 51
        }
      },
      "source": [
        "# check python version \n",
        "# change python version through menu: Runtime -> Change runtime type\n",
        "# choose python 3 and gpu\n",
        "import sys\n",
        "print(sys.version)"
      ],
      "execution_count": 0,
      "outputs": [
        {
          "output_type": "stream",
          "text": [
            "3.6.9 (default, Nov  7 2019, 10:44:02) \n",
            "[GCC 8.3.0]\n"
          ],
          "name": "stdout"
        }
      ]
    },
    {
      "cell_type": "code",
      "metadata": {
        "id": "d36jjblBTh4d",
        "colab_type": "code",
        "outputId": "0734817d-3866-41fb-f3f6-edbf777b658c",
        "colab": {
          "base_uri": "https://localhost:8080/",
          "height": 122
        }
      },
      "source": [
        "# Run this cell to mount your Google Drive.\n",
        "from google.colab import drive\n",
        "drive.mount('/content/drive')"
      ],
      "execution_count": 1,
      "outputs": [
        {
          "output_type": "stream",
          "text": [
            "Go to this URL in a browser: https://accounts.google.com/o/oauth2/auth?client_id=947318989803-6bn6qk8qdgf4n4g3pfee6491hc0brc4i.apps.googleusercontent.com&redirect_uri=urn%3aietf%3awg%3aoauth%3a2.0%3aoob&response_type=code&scope=email%20https%3a%2f%2fwww.googleapis.com%2fauth%2fdocs.test%20https%3a%2f%2fwww.googleapis.com%2fauth%2fdrive%20https%3a%2f%2fwww.googleapis.com%2fauth%2fdrive.photos.readonly%20https%3a%2f%2fwww.googleapis.com%2fauth%2fpeopleapi.readonly\n",
            "\n",
            "Enter your authorization code:\n",
            "··········\n",
            "Mounted at /content/drive\n"
          ],
          "name": "stdout"
        }
      ]
    },
    {
      "cell_type": "code",
      "metadata": {
        "id": "ffCiNu2GTn_6",
        "colab_type": "code",
        "outputId": "5bf30649-cf76-41dd-e720-25d4782f2b92",
        "colab": {
          "base_uri": "https://localhost:8080/",
          "height": 666
        }
      },
      "source": [
        "#libraries\n",
        "%pip install tensorboard-chainer\n",
        "%pip install -U PyYAML\n",
        "%pip install neat-python torch\n"
      ],
      "execution_count": 2,
      "outputs": [
        {
          "output_type": "stream",
          "text": [
            "Collecting tensorboard-chainer\n",
            "  Downloading https://files.pythonhosted.org/packages/08/ab/17dbc4b86b3d9dfc77b3a0e19c0b40ae4ea4e6f1c476ffce07ce3cf0d576/tensorboard-chainer-0.4.0.tar.gz\n",
            "Requirement already satisfied: protobuf in /usr/local/lib/python3.6/dist-packages (from tensorboard-chainer) (3.10.0)\n",
            "Requirement already satisfied: six in /usr/local/lib/python3.6/dist-packages (from tensorboard-chainer) (1.12.0)\n",
            "Requirement already satisfied: moviepy in /usr/local/lib/python3.6/dist-packages (from tensorboard-chainer) (0.2.3.5)\n",
            "Requirement already satisfied: setuptools in /usr/local/lib/python3.6/dist-packages (from protobuf->tensorboard-chainer) (45.1.0)\n",
            "Requirement already satisfied: tqdm<5.0,>=4.11.2 in /usr/local/lib/python3.6/dist-packages (from moviepy->tensorboard-chainer) (4.28.1)\n",
            "Requirement already satisfied: imageio<3.0,>=2.1.2 in /usr/local/lib/python3.6/dist-packages (from moviepy->tensorboard-chainer) (2.4.1)\n",
            "Requirement already satisfied: decorator<5.0,>=4.0.2 in /usr/local/lib/python3.6/dist-packages (from moviepy->tensorboard-chainer) (4.4.1)\n",
            "Requirement already satisfied: numpy in /usr/local/lib/python3.6/dist-packages (from moviepy->tensorboard-chainer) (1.17.5)\n",
            "Requirement already satisfied: pillow in /usr/local/lib/python3.6/dist-packages (from imageio<3.0,>=2.1.2->moviepy->tensorboard-chainer) (6.2.2)\n",
            "Building wheels for collected packages: tensorboard-chainer\n",
            "  Building wheel for tensorboard-chainer (setup.py) ... \u001b[?25l\u001b[?25hdone\n",
            "  Created wheel for tensorboard-chainer: filename=tensorboard_chainer-0.4.0-cp36-none-any.whl size=41286 sha256=94f73b579a9c7470feba8bebaf98486dd2bdf9c9d232fab2cab27e544fc6e7ba\n",
            "  Stored in directory: /root/.cache/pip/wheels/ce/03/3d/bacf21fb18cbc710392b63f20a46f9934501ae58c32157bb75\n",
            "Successfully built tensorboard-chainer\n",
            "Installing collected packages: tensorboard-chainer\n",
            "Successfully installed tensorboard-chainer-0.4.0\n",
            "Collecting PyYAML\n",
            "\u001b[?25l  Downloading https://files.pythonhosted.org/packages/3d/d9/ea9816aea31beeadccd03f1f8b625ecf8f645bd66744484d162d84803ce5/PyYAML-5.3.tar.gz (268kB)\n",
            "\u001b[K     |████████████████████████████████| 276kB 2.7MB/s \n",
            "\u001b[?25hBuilding wheels for collected packages: PyYAML\n",
            "  Building wheel for PyYAML (setup.py) ... \u001b[?25l\u001b[?25hdone\n",
            "  Created wheel for PyYAML: filename=PyYAML-5.3-cp36-cp36m-linux_x86_64.whl size=44229 sha256=80b353accbb31e23f1f11ba02e15703a5ae3d843f47fae3d04bd316f34328e3f\n",
            "  Stored in directory: /root/.cache/pip/wheels/e4/76/4d/a95b8dd7b452b69e8ed4f68b69e1b55e12c9c9624dd962b191\n",
            "Successfully built PyYAML\n",
            "Installing collected packages: PyYAML\n",
            "  Found existing installation: PyYAML 3.13\n",
            "    Uninstalling PyYAML-3.13:\n",
            "      Successfully uninstalled PyYAML-3.13\n",
            "Successfully installed PyYAML-5.3\n",
            "Collecting neat-python\n",
            "\u001b[?25l  Downloading https://files.pythonhosted.org/packages/96/6f/e7074d9c869174c9b7379bd5820f8a774382937053a92c024f0a159e3e05/neat_python-0.92-py3-none-any.whl (44kB)\n",
            "\u001b[K     |████████████████████████████████| 51kB 1.8MB/s \n",
            "\u001b[?25hRequirement already satisfied: torch in /usr/local/lib/python3.6/dist-packages (1.4.0)\n",
            "Installing collected packages: neat-python\n",
            "Successfully installed neat-python-0.92\n"
          ],
          "name": "stdout"
        }
      ]
    },
    {
      "cell_type": "markdown",
      "metadata": {
        "id": "xhiyGUR2TzSe",
        "colab_type": "text"
      },
      "source": [
        "Pull prednet files from github\n"
      ]
    },
    {
      "cell_type": "code",
      "metadata": {
        "id": "_qFBUceUT0At",
        "colab_type": "code",
        "outputId": "629899c4-a4e2-4a1a-da98-0a85d0cbf6a1",
        "colab": {
          "base_uri": "https://localhost:8080/",
          "height": 272
        }
      },
      "source": [
        "!rm -r chainer_prednet\n",
        " #!rm -r images\n",
        "  \n",
        "!git clone --branch text_mode https://github.com/LanaSina/chainer_prednet.git --recurse-submodules\n"
      ],
      "execution_count": 3,
      "outputs": [
        {
          "output_type": "stream",
          "text": [
            "rm: cannot remove 'chainer_prednet': No such file or directory\n",
            "Cloning into 'chainer_prednet'...\n",
            "remote: Enumerating objects: 134, done.\u001b[K\n",
            "remote: Counting objects: 100% (134/134), done.\u001b[K\n",
            "remote: Compressing objects: 100% (106/106), done.\u001b[K\n",
            "remote: Total 1278 (delta 52), reused 102 (delta 28), pack-reused 1144\u001b[K\n",
            "Receiving objects: 100% (1278/1278), 8.89 MiB | 17.75 MiB/s, done.\n",
            "Resolving deltas: 100% (783/783), done.\n",
            "Submodule 'optical_flow' (https://github.com/LanaSina/Optical_Flow_Analyzer) registered for path 'optical_flow'\n",
            "Cloning into '/content/chainer_prednet/optical_flow'...\n",
            "remote: Enumerating objects: 97, done.        \n",
            "remote: Counting objects: 100% (97/97), done.        \n",
            "remote: Compressing objects: 100% (74/74), done.        \n",
            "remote: Total 97 (delta 53), reused 50 (delta 20), pack-reused 0        \n",
            "Submodule path 'optical_flow': checked out 'b1bcacb84e0c24de06fd0052a2b7bc9f38ef37db'\n"
          ],
          "name": "stdout"
        }
      ]
    },
    {
      "cell_type": "markdown",
      "metadata": {
        "id": "k6TNy8h6T-IJ",
        "colab_type": "text"
      },
      "source": [
        "Get model file and input images"
      ]
    },
    {
      "cell_type": "code",
      "metadata": {
        "id": "dGMGhN87T9A2",
        "colab_type": "code",
        "colab": {}
      },
      "source": [
        "# change to path to your own model \n",
        "!cp '/content/drive/My Drive/AI/prednet_private/fpsi_500000_20v.model' '.'\n"
      ],
      "execution_count": 0,
      "outputs": []
    },
    {
      "cell_type": "code",
      "metadata": {
        "id": "C05sb2yXULwI",
        "colab_type": "code",
        "outputId": "e764fb01-993e-4378-f0f4-abdfb8137dd6",
        "colab": {
          "base_uri": "https://localhost:8080/",
          "height": 34
        }
      },
      "source": [
        "!rm -r 'input_images/'\n",
        "# change to path to your training images\n",
        "#!cp -r '/content/drive/My Drive/AI/prednet_private/fpsi_100_5K/input_images/' \".\"\n",
        "!cp -r '/content/drive/My Drive/AI/prednet_private/snakes/' \".\""
      ],
      "execution_count": 5,
      "outputs": [
        {
          "output_type": "stream",
          "text": [
            "rm: cannot remove 'input_images/': No such file or directory\n"
          ],
          "name": "stdout"
        }
      ]
    },
    {
      "cell_type": "markdown",
      "metadata": {
        "id": "BuhD34pbUR8C",
        "colab_type": "text"
      },
      "source": [
        "Run network"
      ]
    },
    {
      "cell_type": "code",
      "metadata": {
        "id": "MzMHY8g0UVug",
        "colab_type": "code",
        "outputId": "0b5a5f50-af80-40a3-c419-8c13e2504872",
        "colab": {
          "base_uri": "https://localhost:8080/",
          "height": 204
        }
      },
      "source": [
        "#!rm -r \"result\"\n",
        "# test\n",
        " %run 'chainer_prednet/PredNet/call_prednet.py' --images 'snakes/input_images' --initmodel 'fpsi_500000_20v.model' --input_len 10 --test --g 0\n",
        "# test with extended prediction and frame limit\n",
        "# %run 'chainer_prednet/PredNet/call_prednet.py' --images 'snakes/input_images' --initmodel 'fpsi_500000_20v.model' --input_len 10 --test --g 0 --ext_t 5 --ext 3\n",
        "# train \n",
        "# %run 'chainer_prednet/PredNet/call_prednet.py' --images 'snakes/input_images' --g 0 --save 10\n",
        "#--period 50\n",
        "# test - text mode\n",
        "# %run 'chainer_prednet/PredNet/call_prednet.py' --seq 'snakes/sequence_list.txt' --initmodel 'fpsi_500000_20v.model' --test --g 0 \n",
        "\n"
      ],
      "execution_count": 31,
      "outputs": [
        {
          "output_type": "stream",
          "text": [
            "Running on GPU\n",
            "writing  result/0000000000.png\n",
            "writing  result/0000000001.png\n",
            "writing  result/0000000002.png\n",
            "writing  result/0000000003.png\n",
            "writing  result/0000000004.png\n",
            "writing  result/0000000005.png\n",
            "writing  result/0000000006.png\n",
            "writing  result/0000000007.png\n",
            "writing  result/0000000008.png\n",
            "writing  result/0000000009.png\n"
          ],
          "name": "stdout"
        }
      ]
    },
    {
      "cell_type": "code",
      "metadata": {
        "id": "V-FPkMKDOtgl",
        "colab_type": "code",
        "outputId": "a2b9a590-1751-483a-b731-3f5cb1058b65",
        "colab": {
          "base_uri": "https://localhost:8080/",
          "height": 255
        }
      },
      "source": [
        "# download images\n",
        "!zip -r \"result_images.zip\" \"result\" \n",
        "from google.colab import files\n",
        "files.download('result_images.zip') "
      ],
      "execution_count": 0,
      "outputs": [
        {
          "output_type": "stream",
          "text": [
            "  adding: result/ (stored 0%)\n",
            "  adding: result/0000000004.png (deflated 0%)\n",
            "  adding: result/test_5y_1.png (deflated 0%)\n",
            "  adding: result/0000000002.png (deflated 0%)\n",
            "  adding: result/0000000006.png (deflated 0%)\n",
            "  adding: result/0000000005.png (deflated 0%)\n",
            "  adding: result/0000000003.png (deflated 0%)\n",
            "  adding: result/0000000009.png (deflated 0%)\n",
            "  adding: result/0000000008.png (deflated 0%)\n",
            "  adding: result/0000000007.png (deflated 0%)\n",
            "  adding: result/test_5y_3.png (deflated 0%)\n",
            "  adding: result/test_5y_2.png (deflated 0%)\n",
            "  adding: result/0000000001.png (deflated 0%)\n",
            "  adding: result/0000000000.png (deflated 0%)\n"
          ],
          "name": "stdout"
        }
      ]
    }
  ]
}