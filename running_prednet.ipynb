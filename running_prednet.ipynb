{
  "nbformat": 4,
  "nbformat_minor": 0,
  "metadata": {
    "colab": {
      "name": "running_prednet.ipynb",
      "provenance": [],
      "collapsed_sections": [],
      "authorship_tag": "ABX9TyN49SiKm3r51pCB+4i/qo5N",
      "include_colab_link": true
    },
    "kernelspec": {
      "name": "python3",
      "display_name": "Python 3"
    },
    "accelerator": "GPU"
  },
  "cells": [
    {
      "cell_type": "markdown",
      "metadata": {
        "id": "view-in-github",
        "colab_type": "text"
      },
      "source": [
        "<a href=\"https://colab.research.google.com/github/LanaSina/chainer_prednet/blob/master/running_prednet.ipynb\" target=\"_parent\"><img src=\"https://colab.research.google.com/assets/colab-badge.svg\" alt=\"Open In Colab\"/></a>"
      ]
    },
    {
      "cell_type": "code",
      "metadata": {
        "id": "Jo2XhWvjTa43",
        "colab_type": "code",
        "colab": {}
      },
      "source": [
        "# check python version \n",
        "# change python version through menu: Runtime -> Change runtime type\n",
        "# choose python 3 and gpu\n",
        "import sys\n",
        "print(sys.version)"
      ],
      "execution_count": 0,
      "outputs": []
    },
    {
      "cell_type": "code",
      "metadata": {
        "id": "d36jjblBTh4d",
        "colab_type": "code",
        "colab": {}
      },
      "source": [
        "# Run this cell to mount your Google Drive.\n",
        "from google.colab import drive\n",
        "drive.mount('/content/drive')"
      ],
      "execution_count": 0,
      "outputs": []
    },
    {
      "cell_type": "code",
      "metadata": {
        "id": "ffCiNu2GTn_6",
        "colab_type": "code",
        "colab": {}
      },
      "source": [
        "#libraries\n",
        "%pip install tensorboard-chainer\n",
        "%pip install -U PyYAML\n",
        "%pip install neat-python torch\n"
      ],
      "execution_count": 0,
      "outputs": []
    },
    {
      "cell_type": "markdown",
      "metadata": {
        "id": "xhiyGUR2TzSe",
        "colab_type": "text"
      },
      "source": [
        "Pull prednet files from github\n"
      ]
    },
    {
      "cell_type": "code",
      "metadata": {
        "id": "_qFBUceUT0At",
        "colab_type": "code",
        "colab": {}
      },
      "source": [
        "!rm -r chainer_prednet\n",
        " #!rm -r images\n",
        "  \n",
        "!git clone --branch text_mode https://github.com/LanaSina/chainer_prednet.git --recurse-submodules\n"
      ],
      "execution_count": 0,
      "outputs": []
    },
    {
      "cell_type": "markdown",
      "metadata": {
        "id": "k6TNy8h6T-IJ",
        "colab_type": "text"
      },
      "source": [
        "Get model file and input images"
      ]
    },
    {
      "cell_type": "code",
      "metadata": {
        "id": "dGMGhN87T9A2",
        "colab_type": "code",
        "colab": {}
      },
      "source": [
        "# change to path to your own model \n",
        "!cp '/content/drive/My Drive/AI/prednet_private/fpsi_500000_20v.model' '.'\n"
      ],
      "execution_count": 0,
      "outputs": []
    },
    {
      "cell_type": "code",
      "metadata": {
        "id": "C05sb2yXULwI",
        "colab_type": "code",
        "colab": {}
      },
      "source": [
        "!rm -r 'input_images/'\n",
        "# change to path to your training images\n",
        "#!cp -r '/content/drive/My Drive/AI/prednet_private/fpsi_100_5K/input_images/' \".\"\n",
        "!cp -r '/content/drive/My Drive/AI/prednet_private/snakes/' \".\""
      ],
      "execution_count": 0,
      "outputs": []
    },
    {
      "cell_type": "markdown",
      "metadata": {
        "id": "BuhD34pbUR8C",
        "colab_type": "text"
      },
      "source": [
        "Run network"
      ]
    },
    {
      "cell_type": "code",
      "metadata": {
        "id": "MzMHY8g0UVug",
        "colab_type": "code",
        "colab": {}
      },
      "source": [
        "#!rm -r \"result\"\n",
        "# test\n",
        " %run 'chainer_prednet/PredNet/call_prednet.py' --images 'snakes/input_images' --initmodel 'fpsi_500000_20v.model' --input_len 10 --test --g 0\n",
        "# test with extended prediction and frame limit\n",
        "# %run 'chainer_prednet/PredNet/call_prednet.py' --images 'snakes/input_images' --initmodel 'fpsi_500000_20v.model' --input_len 10 --test --g 0 --ext_t 5 --ext 3\n",
        "# train \n",
        "# %run 'chainer_prednet/PredNet/call_prednet.py' --images 'snakes/input_images' --g 0 --save 10\n",
        "#--period 50\n",
        "# test - text mode\n",
        "# %run 'chainer_prednet/PredNet/call_prednet.py' --seq 'snakes/sequence_list.txt' --initmodel 'fpsi_500000_20v.model' --test --g 0 \n",
        "\n"
      ],
      "execution_count": 0,
      "outputs": []
    },
    {
      "cell_type": "code",
      "metadata": {
        "id": "V-FPkMKDOtgl",
        "colab_type": "code",
        "colab": {}
      },
      "source": [
        "# download images\n",
        "!zip -r \"result_images.zip\" \"result\" \n",
        "from google.colab import files\n",
        "files.download('result_images.zip') "
      ],
      "execution_count": 0,
      "outputs": []
    }
  ]
}