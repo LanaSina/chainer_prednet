{
  "nbformat": 4,
  "nbformat_minor": 0,
  "metadata": {
    "colab": {
      "name": "chainer_prednet.ipynb",
      "version": "0.3.2",
      "provenance": [],
      "collapsed_sections": [],
      "include_colab_link": true
    },
    "kernelspec": {
      "name": "python2",
      "display_name": "Python 2"
    },
    "accelerator": "GPU"
  },
  "cells": [
    {
      "cell_type": "markdown",
      "metadata": {
        "id": "view-in-github",
        "colab_type": "text"
      },
      "source": [
        "<a href=\"https://colab.research.google.com/github/LanaSina/chainer_prednet/blob/master/chainer_prednet.ipynb\" target=\"_parent\"><img src=\"https://colab.research.google.com/assets/colab-badge.svg\" alt=\"Open In Colab\"/></a>"
      ]
    },
    {
      "cell_type": "code",
      "metadata": {
        "id": "4BHI_SmaOMHF",
        "colab_type": "code",
        "colab": {
          "base_uri": "https://localhost:8080/",
          "height": 357
        },
        "outputId": "8405fd09-899a-466f-ff55-bc5189e34040"
      },
      "source": [
        "pip install tensorboard-chainer"
      ],
      "execution_count": 1,
      "outputs": [
        {
          "output_type": "stream",
          "text": [
            "Collecting tensorboard-chainer\n",
            "  Downloading https://files.pythonhosted.org/packages/08/ab/17dbc4b86b3d9dfc77b3a0e19c0b40ae4ea4e6f1c476ffce07ce3cf0d576/tensorboard-chainer-0.4.0.tar.gz\n",
            "Requirement already satisfied: protobuf in /usr/local/lib/python2.7/dist-packages (from tensorboard-chainer) (3.7.1)\n",
            "Requirement already satisfied: six in /usr/local/lib/python2.7/dist-packages (from tensorboard-chainer) (1.12.0)\n",
            "Requirement already satisfied: moviepy in /usr/local/lib/python2.7/dist-packages (from tensorboard-chainer) (0.2.3.5)\n",
            "Requirement already satisfied: setuptools in /usr/local/lib/python2.7/dist-packages (from protobuf->tensorboard-chainer) (41.0.1)\n",
            "Requirement already satisfied: numpy in /usr/local/lib/python2.7/dist-packages (from moviepy->tensorboard-chainer) (1.16.4)\n",
            "Requirement already satisfied: decorator<5.0,>=4.0.2 in /usr/local/lib/python2.7/dist-packages (from moviepy->tensorboard-chainer) (4.4.0)\n",
            "Requirement already satisfied: imageio<3.0,>=2.1.2 in /usr/local/lib/python2.7/dist-packages (from moviepy->tensorboard-chainer) (2.4.1)\n",
            "Requirement already satisfied: tqdm<5.0,>=4.11.2 in /usr/local/lib/python2.7/dist-packages (from moviepy->tensorboard-chainer) (4.28.1)\n",
            "Requirement already satisfied: futures in /usr/local/lib/python2.7/dist-packages (from imageio<3.0,>=2.1.2->moviepy->tensorboard-chainer) (3.2.0)\n",
            "Requirement already satisfied: enum34 in /usr/local/lib/python2.7/dist-packages (from imageio<3.0,>=2.1.2->moviepy->tensorboard-chainer) (1.1.6)\n",
            "Requirement already satisfied: pillow in /usr/local/lib/python2.7/dist-packages (from imageio<3.0,>=2.1.2->moviepy->tensorboard-chainer) (4.3.0)\n",
            "Requirement already satisfied: olefile in /usr/local/lib/python2.7/dist-packages (from pillow->imageio<3.0,>=2.1.2->moviepy->tensorboard-chainer) (0.46)\n",
            "Building wheels for collected packages: tensorboard-chainer\n",
            "  Building wheel for tensorboard-chainer (setup.py) ... \u001b[?25l\u001b[?25hdone\n",
            "  Stored in directory: /root/.cache/pip/wheels/ce/03/3d/bacf21fb18cbc710392b63f20a46f9934501ae58c32157bb75\n",
            "Successfully built tensorboard-chainer\n",
            "Installing collected packages: tensorboard-chainer\n",
            "Successfully installed tensorboard-chainer-0.4.0\n"
          ],
          "name": "stdout"
        }
      ]
    },
    {
      "cell_type": "markdown",
      "metadata": {
        "id": "Y2OWfJMMOzf0",
        "colab_type": "text"
      },
      "source": [
        "Install tb chainer\n",
        "Mount dirve\n",
        "Then call files"
      ]
    },
    {
      "cell_type": "code",
      "metadata": {
        "id": "MdCE52SBOTl0",
        "colab_type": "code",
        "colab": {
          "base_uri": "https://localhost:8080/",
          "height": 122
        },
        "outputId": "a146fee3-bfc0-4f68-9248-868221bcbcd8"
      },
      "source": [
        "from google.colab import drive\n",
        "drive.mount('/content/gdrive')"
      ],
      "execution_count": 2,
      "outputs": [
        {
          "output_type": "stream",
          "text": [
            "Go to this URL in a browser: https://accounts.google.com/o/oauth2/auth?client_id=947318989803-6bn6qk8qdgf4n4g3pfee6491hc0brc4i.apps.googleusercontent.com&redirect_uri=urn%3Aietf%3Awg%3Aoauth%3A2.0%3Aoob&scope=email%20https%3A%2F%2Fwww.googleapis.com%2Fauth%2Fdocs.test%20https%3A%2F%2Fwww.googleapis.com%2Fauth%2Fdrive%20https%3A%2F%2Fwww.googleapis.com%2Fauth%2Fdrive.photos.readonly%20https%3A%2F%2Fwww.googleapis.com%2Fauth%2Fpeopleapi.readonly&response_type=code\n",
            "\n",
            "Enter your authorization code:\n",
            "··········\n",
            "Mounted at /content/gdrive\n"
          ],
          "name": "stdout"
        }
      ]
    },
    {
      "cell_type": "markdown",
      "metadata": {
        "id": "mJwTWQq5QgqG",
        "colab_type": "text"
      },
      "source": [
        "import prednet files from github"
      ]
    },
    {
      "cell_type": "code",
      "metadata": {
        "id": "qycwVOrwQkYC",
        "colab_type": "code",
        "colab": {
          "base_uri": "https://localhost:8080/",
          "height": 136
        },
        "outputId": "f4f88827-6b01-47a6-975e-406687914c92"
      },
      "source": [
        " !rm -r chainer_prednet\n",
        "  \n",
        " !git clone https://github.com/LanaSina/chainer_prednet.git"
      ],
      "execution_count": 3,
      "outputs": [
        {
          "output_type": "stream",
          "text": [
            "rm: cannot remove 'chainer_prednet': No such file or directory\n",
            "Cloning into 'chainer_prednet'...\n",
            "remote: Enumerating objects: 29, done.\u001b[K\n",
            "remote: Counting objects: 100% (29/29), done.\u001b[K\n",
            "remote: Compressing objects: 100% (20/20), done.\u001b[K\n",
            "remote: Total 29 (delta 5), reused 26 (delta 5), pack-reused 0\u001b[K\n",
            "Unpacking objects: 100% (29/29), done.\n"
          ],
          "name": "stdout"
        }
      ]
    },
    {
      "cell_type": "code",
      "metadata": {
        "id": "3oMX2k1nUK2l",
        "colab_type": "code",
        "colab": {}
      },
      "source": [
        "%load chainer_prednet/PredNet/net.py\n",
        "%load chainer_prednet/PredNet/main.py\n",
        "# %load chainer_prednet/PredNet/generate_imagelist.py\n",
        "\n",
        "# %run 'chainer_prednet/generate_imagelist.py' 'gdrive/My Drive/AI/prednet_chainer' 7"
      ],
      "execution_count": 0,
      "outputs": []
    },
    {
      "cell_type": "code",
      "metadata": {
        "id": "jK47EWe2XHS8",
        "colab_type": "code",
        "colab": {
          "base_uri": "https://localhost:8080/",
          "height": 272
        },
        "outputId": "24a802c1-1bd1-42f5-df8b-f86bbe723a96"
      },
      "source": [
        "%run 'chainer_prednet/PredNet/main.py' --images 'gdrive/My Drive/AI/prednet_chainer' -g 0 --period 10"
      ],
      "execution_count": 5,
      "outputs": [
        {
          "output_type": "stream",
          "text": [
            "Running on a GPU\n",
            "('count ', 0, ' frameNo ', 1)\n",
            "save the model\n",
            "save the optimizer\n",
            "('count ', 1, ' frameNo ', 2)\n",
            "('count ', 2, ' frameNo ', 3)\n",
            "('count ', 3, ' frameNo ', 4)\n",
            "('count ', 4, ' frameNo ', 1)\n",
            "('count ', 5, ' frameNo ', 2)\n",
            "('count ', 6, ' frameNo ', 3)\n",
            "('count ', 7, ' frameNo ', 4)\n",
            "('count ', 8, ' frameNo ', 1)\n",
            "('count ', 9, ' frameNo ', 2)\n",
            "('count ', 10, ' frameNo ', 3)\n",
            "('count ', 11, ' frameNo ', 4)\n"
          ],
          "name": "stdout"
        }
      ]
    },
    {
      "cell_type": "code",
      "metadata": {
        "id": "0iUghImybAE5",
        "colab_type": "code",
        "colab": {
          "base_uri": "https://localhost:8080/",
          "height": 85
        },
        "outputId": "985a0071-c75c-4338-8061-c3c2de2667f6"
      },
      "source": [
        "%run 'chainer_prednet/PredNet/main.py' --images 'gdrive/My Drive/AI/prednet_chainer' --initmodel 'models/0.model' --test\n"
      ],
      "execution_count": 6,
      "outputs": [
        {
          "output_type": "stream",
          "text": [
            "Running on a CPU\n",
            "('Load model from', 'models/0.model')\n",
            "('seq ', 0, ' frameNo ', 0)\n",
            "('seq ', 0, ' frameNo ', 1)\n"
          ],
          "name": "stdout"
        }
      ]
    }
  ]
}