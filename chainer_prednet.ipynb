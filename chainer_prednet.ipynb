{
  "nbformat": 4,
  "nbformat_minor": 0,
  "metadata": {
    "colab": {
      "name": "chainer_prednet.ipynb",
      "provenance": [],
      "private_outputs": true,
      "collapsed_sections": [],
      "include_colab_link": true
    },
    "kernelspec": {
      "name": "python2",
      "display_name": "Python 2"
    },
    "accelerator": "GPU"
  },
  "cells": [
    {
      "cell_type": "markdown",
      "metadata": {
        "id": "view-in-github",
        "colab_type": "text"
      },
      "source": [
        "<a href=\"https://colab.research.google.com/github/LanaSina/chainer_prednet/blob/benham_speed/chainer_prednet.ipynb\" target=\"_parent\"><img src=\"https://colab.research.google.com/assets/colab-badge.svg\" alt=\"Open In Colab\"/></a>"
      ]
    },
    {
      "cell_type": "markdown",
      "metadata": {
        "id": "Y2OWfJMMOzf0",
        "colab_type": "text"
      },
      "source": [
        "Install tb chainer\n",
        "\n",
        "Mount drive (fpsi images are in .zip file inside drive)\n"
      ]
    },
    {
      "cell_type": "code",
      "metadata": {
        "id": "4BHI_SmaOMHF",
        "colab_type": "code",
        "colab": {}
      },
      "source": [
        "# check python version (this should be python 2)\n",
        "# change python version through menu: Runtime -> Change runtime type\n",
        "# choose python 2 and gpu\n",
        "import sys\n",
        "print(sys.version)\n"
      ],
      "execution_count": 0,
      "outputs": []
    },
    {
      "cell_type": "code",
      "metadata": {
        "id": "Ou7gTNpUHJAR",
        "colab_type": "code",
        "colab": {}
      },
      "source": [
        "# Run this cell to mount your Google Drive.\n",
        "from google.colab import drive\n",
        "drive.mount('/content/drive')"
      ],
      "execution_count": 0,
      "outputs": []
    },
    {
      "cell_type": "code",
      "metadata": {
        "id": "K0tIzZHHDqIP",
        "colab_type": "code",
        "colab": {}
      },
      "source": [
        "%pip install tensorboard-chainer"
      ],
      "execution_count": 0,
      "outputs": []
    },
    {
      "cell_type": "markdown",
      "metadata": {
        "id": "mJwTWQq5QgqG",
        "colab_type": "text"
      },
      "source": [
        "Import prednet files from github\n",
        "\n",
        "Load files and locally unzip images\n",
        "\n",
        "Create image lists"
      ]
    },
    {
      "cell_type": "code",
      "metadata": {
        "id": "qycwVOrwQkYC",
        "colab_type": "code",
        "colab": {}
      },
      "source": [
        " !rm -r chainer_prednet\n",
        " #!rm -r images\n",
        "  \n",
        " !git clone --branch benham_speed https://github.com/LanaSina/chainer_prednet.git\n",
        "  "
      ],
      "execution_count": 0,
      "outputs": []
    },
    {
      "cell_type": "markdown",
      "metadata": {
        "id": "12OvvyO0BDKr",
        "colab_type": "text"
      },
      "source": [
        ""
      ]
    },
    {
      "cell_type": "code",
      "metadata": {
        "id": "evpYpj6fqG_Y",
        "colab_type": "code",
        "colab": {}
      },
      "source": [
        "# zipped files\n",
        "# !unzip -q 'drive/My Drive/AI/prednet_private/expanding.zip' -d 'expanding'\n",
        "\n",
        "!rm -r 'imported/'\n",
        "!mkdir \"imported\"\n",
        "!cp -r '/content/drive/My Drive/AI/prednet_private/gradient_strong/input_images/' 'imported/'\n",
        "# !rm -r \"imported/input_images/.DS_Store\"\n",
        "#!mv \"benham/Benham_test_data_2/\" \"benham/input_images/\""
      ],
      "execution_count": 0,
      "outputs": []
    },
    {
      "cell_type": "code",
      "metadata": {
        "id": "BO9Jx5OFDHZv",
        "colab_type": "code",
        "colab": {}
      },
      "source": [
        "#!rm -r 'imported/'"
      ],
      "execution_count": 0,
      "outputs": []
    },
    {
      "cell_type": "code",
      "metadata": {
        "id": "8YBsNeQ1yBSa",
        "colab_type": "code",
        "colab": {}
      },
      "source": [
        "# correct 0 padding\n",
        "run \"chainer_prednet/batch_padding.py\" \"fpsi/input_images\" --p '8' --prefix 'frame_'"
      ],
      "execution_count": 0,
      "outputs": []
    },
    {
      "cell_type": "code",
      "metadata": {
        "id": "1l82q73TxjJg",
        "colab_type": "code",
        "colab": {}
      },
      "source": [
        "# create black and white input\n",
        "!rm -r \"greyscale_input\"\n",
        "%run 'chainer_prednet/convert_to_greyscale.py' 'fpsi/input_images' '100' --s '15000'"
      ],
      "execution_count": 0,
      "outputs": []
    },
    {
      "cell_type": "code",
      "metadata": {
        "id": "ttZAM5EWo1yU",
        "colab_type": "code",
        "colab": {}
      },
      "source": [
        "#build text files\n",
        "#!rm -r \"benham/input_images/.DS_Store\"\n",
        "%run 'chainer_prednet/generate_imagelist.py' 'imported/' '20'\n",
        "#'drive/My Drive/AI/prednet_private/lines_forward_5'"
      ],
      "execution_count": 0,
      "outputs": []
    },
    {
      "cell_type": "code",
      "metadata": {
        "id": "HQTTBN8YDfz-",
        "colab_type": "code",
        "colab": {}
      },
      "source": [
        "!cp '/content/drive/My Drive/AI/prednet_private/30000_bike1a.model' '.'"
      ],
      "execution_count": 0,
      "outputs": []
    },
    {
      "cell_type": "code",
      "metadata": {
        "id": "0iUghImybAE5",
        "colab_type": "code",
        "colab": {}
      },
      "source": [
        "!rm -r \"result\"\n",
        "#%run 'chainer_prednet/PredNet/main.py' --images 'drive/My Drive/AI/prednet_private/lines_black_bg' --initmodel '500000.model' --test\n",
        "%run 'chainer_prednet/PredNet/main.py' --images 'imported' --initmodel '30000_bike1a.model' --input_len 20 --test\n"
      ],
      "execution_count": 0,
      "outputs": []
    },
    {
      "cell_type": "code",
      "metadata": {
        "id": "MZeeXHrxGK3c",
        "colab_type": "code",
        "colab": {}
      },
      "source": [
        "!zip -r \"result_images.zip\" \"result\" \n",
        "from google.colab import files\n",
        "files.download('result_images.zip') \n"
      ],
      "execution_count": 0,
      "outputs": []
    },
    {
      "cell_type": "code",
      "metadata": {
        "id": "-5VTevomW7M4",
        "colab_type": "code",
        "colab": {}
      },
      "source": [
        "run \"chainer_prednet/batch_rename_results.py\" \"result/\""
      ],
      "execution_count": 0,
      "outputs": []
    },
    {
      "cell_type": "code",
      "metadata": {
        "id": "KUIPkK0Ozb-n",
        "colab_type": "code",
        "colab": {}
      },
      "source": [
        "run \"chainer_prednet/verify_predicted_colors.py\" \"result/\" \"fpsi/input_images/\"  \"greyscale_input/input_images\" \"greyscale_analysis\"\n"
      ],
      "execution_count": 0,
      "outputs": []
    },
    {
      "cell_type": "code",
      "metadata": {
        "id": "4PnXgBd2Dq4n",
        "colab_type": "code",
        "colab": {}
      },
      "source": [
        "# !apt install ffmpeg\n",
        "\n",
        "#!ffmpeg -framerate 10 -pattern_type glob -i \"greyscale_analysis/col_diff/*.png\" 'greyscale_analysis/col_diff/_out.mp4'\n",
        "#!ffmpeg -framerate 10 -pattern_type glob -i \"greyscale_analysis/col_match/*.png\" 'greyscale_analysis/col_match/_out.mp4'\n",
        "#!ffmpeg -framerate 10 -pattern_type glob -i \"greyscale_analysis/col_overlay/*.png\" 'greyscale_analysis/col_overlay/_out.mp4'\n",
        "!ffmpeg -framerate 10 -pattern_type glob -i \"result/*.png\" 'result/_out.mp4'"
      ],
      "execution_count": 0,
      "outputs": []
    },
    {
      "cell_type": "code",
      "metadata": {
        "id": "tXaDVKveGldw",
        "colab_type": "code",
        "colab": {}
      },
      "source": [
        "#files.download('greyscale_analysis/col_diff/_out.mp4') \n",
        "#files.download('greyscale_analysis/col_match/_out.mp4') \n",
        "#files.download('greyscale_analysis/col_overlay/_out.mp4') \n",
        "files.download('result/_out.mp4')\n"
      ],
      "execution_count": 0,
      "outputs": []
    },
    {
      "cell_type": "code",
      "metadata": {
        "id": "1vTOkMv6ecR_",
        "colab_type": "code",
        "colab": {}
      },
      "source": [
        "# image analysis\n",
        "%run \"chainer_prednet/images_analysis.py\" -i \"fpsi/input_images\""
      ],
      "execution_count": 0,
      "outputs": []
    }
  ]
}