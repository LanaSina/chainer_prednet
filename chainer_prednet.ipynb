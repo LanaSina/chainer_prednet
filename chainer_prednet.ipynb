{
  "nbformat": 4,
  "nbformat_minor": 0,
  "metadata": {
    "colab": {
      "name": "chainer_prednet.ipynb",
      "version": "0.3.2",
      "provenance": [],
      "collapsed_sections": [],
      "include_colab_link": true
    },
    "kernelspec": {
      "name": "python3",
      "display_name": "Python 3"
    },
    "accelerator": "GPU"
  },
  "cells": [
    {
      "cell_type": "markdown",
      "metadata": {
        "id": "view-in-github",
        "colab_type": "text"
      },
      "source": [
        "<a href=\"https://colab.research.google.com/github/LanaSina/chainer_prednet/blob/master/chainer_prednet.ipynb\" target=\"_parent\"><img src=\"https://colab.research.google.com/assets/colab-badge.svg\" alt=\"Open In Colab\"/></a>"
      ]
    },
    {
      "cell_type": "markdown",
      "metadata": {
        "id": "Y2OWfJMMOzf0",
        "colab_type": "text"
      },
      "source": [
        "Install tb chainer\n",
        "\n",
        "Mount drive (fpsi images are in .zip file inside drive)\n"
      ]
    },
    {
      "cell_type": "code",
      "metadata": {
        "id": "4BHI_SmaOMHF",
        "colab_type": "code",
        "outputId": "5079565f-63e0-4022-ee54-014ef1aeef25",
        "colab": {
          "base_uri": "https://localhost:8080/",
          "height": 51
        }
      },
      "source": [
        "# check python version (this should be python 2)\n",
        "# change python version through menu: Runtime -> Change runtime type\n",
        "# choose python 2 and gpu\n",
        "import sys\n",
        "print(sys.version)\n"
      ],
      "execution_count": 0,
      "outputs": [
        {
          "output_type": "stream",
          "text": [
            "3.6.7 (default, Oct 22 2018, 11:32:17) \n",
            "[GCC 8.2.0]\n"
          ],
          "name": "stdout"
        }
      ]
    },
    {
      "cell_type": "code",
      "metadata": {
        "id": "K0tIzZHHDqIP",
        "colab_type": "code",
        "outputId": "66ba7898-d0d7-438e-e948-f40efb684ce8",
        "colab": {
          "base_uri": "https://localhost:8080/",
          "height": 343
        }
      },
      "source": [
        "%pip install tensorboard-chainer"
      ],
      "execution_count": 0,
      "outputs": [
        {
          "output_type": "stream",
          "text": [
            "Collecting tensorboard-chainer\n",
            "  Using cached https://files.pythonhosted.org/packages/08/ab/17dbc4b86b3d9dfc77b3a0e19c0b40ae4ea4e6f1c476ffce07ce3cf0d576/tensorboard-chainer-0.4.0.tar.gz\n",
            "Requirement already satisfied: protobuf in /usr/local/lib/python3.6/dist-packages (from tensorboard-chainer) (3.7.1)\n",
            "Requirement already satisfied: six in /usr/local/lib/python3.6/dist-packages (from tensorboard-chainer) (1.12.0)\n",
            "Requirement already satisfied: moviepy in /usr/local/lib/python3.6/dist-packages (from tensorboard-chainer) (0.2.3.5)\n",
            "Requirement already satisfied: setuptools in /usr/local/lib/python3.6/dist-packages (from protobuf->tensorboard-chainer) (41.0.1)\n",
            "Requirement already satisfied: numpy in /usr/local/lib/python3.6/dist-packages (from moviepy->tensorboard-chainer) (1.16.4)\n",
            "Requirement already satisfied: tqdm<5.0,>=4.11.2 in /usr/local/lib/python3.6/dist-packages (from moviepy->tensorboard-chainer) (4.28.1)\n",
            "Requirement already satisfied: decorator<5.0,>=4.0.2 in /usr/local/lib/python3.6/dist-packages (from moviepy->tensorboard-chainer) (4.4.0)\n",
            "Requirement already satisfied: imageio<3.0,>=2.1.2 in /usr/local/lib/python3.6/dist-packages (from moviepy->tensorboard-chainer) (2.4.1)\n",
            "Requirement already satisfied: pillow in /usr/local/lib/python3.6/dist-packages (from imageio<3.0,>=2.1.2->moviepy->tensorboard-chainer) (4.3.0)\n",
            "Requirement already satisfied: olefile in /usr/local/lib/python3.6/dist-packages (from pillow->imageio<3.0,>=2.1.2->moviepy->tensorboard-chainer) (0.46)\n",
            "Building wheels for collected packages: tensorboard-chainer\n",
            "  Building wheel for tensorboard-chainer (setup.py) ... \u001b[?25l\u001b[?25hdone\n",
            "  Stored in directory: /root/.cache/pip/wheels/ce/03/3d/bacf21fb18cbc710392b63f20a46f9934501ae58c32157bb75\n",
            "Successfully built tensorboard-chainer\n",
            "Installing collected packages: tensorboard-chainer\n",
            "Successfully installed tensorboard-chainer-0.4.0\n"
          ],
          "name": "stdout"
        }
      ]
    },
    {
      "cell_type": "code",
      "metadata": {
        "id": "MdCE52SBOTl0",
        "colab_type": "code",
        "outputId": "c4c3fd6a-1829-404c-c63c-c06092eb6cb7",
        "colab": {
          "base_uri": "https://localhost:8080/",
          "height": 343
        }
      },
      "source": [
        "\n",
        "from google.colab import drive\n",
        "drive.mount('/content/gdrive')"
      ],
      "execution_count": 0,
      "outputs": [
        {
          "output_type": "stream",
          "text": [
            "Requirement already satisfied: tensorboard-chainer in /usr/local/lib/python2.7/dist-packages (0.4.0)\n",
            "Requirement already satisfied: six in /usr/local/lib/python2.7/dist-packages (from tensorboard-chainer) (1.12.0)\n",
            "Requirement already satisfied: moviepy in /usr/local/lib/python2.7/dist-packages (from tensorboard-chainer) (0.2.3.5)\n",
            "Requirement already satisfied: protobuf in /usr/local/lib/python2.7/dist-packages (from tensorboard-chainer) (3.7.1)\n",
            "Requirement already satisfied: numpy in /usr/local/lib/python2.7/dist-packages (from moviepy->tensorboard-chainer) (1.16.4)\n",
            "Requirement already satisfied: decorator<5.0,>=4.0.2 in /usr/local/lib/python2.7/dist-packages (from moviepy->tensorboard-chainer) (4.4.0)\n",
            "Requirement already satisfied: imageio<3.0,>=2.1.2 in /usr/local/lib/python2.7/dist-packages (from moviepy->tensorboard-chainer) (2.4.1)\n",
            "Requirement already satisfied: tqdm<5.0,>=4.11.2 in /usr/local/lib/python2.7/dist-packages (from moviepy->tensorboard-chainer) (4.28.1)\n",
            "Requirement already satisfied: setuptools in /usr/local/lib/python2.7/dist-packages (from protobuf->tensorboard-chainer) (41.0.1)\n",
            "Requirement already satisfied: futures in /usr/local/lib/python2.7/dist-packages (from imageio<3.0,>=2.1.2->moviepy->tensorboard-chainer) (3.2.0)\n",
            "Requirement already satisfied: enum34 in /usr/local/lib/python2.7/dist-packages (from imageio<3.0,>=2.1.2->moviepy->tensorboard-chainer) (1.1.6)\n",
            "Requirement already satisfied: pillow in /usr/local/lib/python2.7/dist-packages (from imageio<3.0,>=2.1.2->moviepy->tensorboard-chainer) (4.3.0)\n",
            "Requirement already satisfied: olefile in /usr/local/lib/python2.7/dist-packages (from pillow->imageio<3.0,>=2.1.2->moviepy->tensorboard-chainer) (0.46)\n",
            "Go to this URL in a browser: https://accounts.google.com/o/oauth2/auth?client_id=947318989803-6bn6qk8qdgf4n4g3pfee6491hc0brc4i.apps.googleusercontent.com&redirect_uri=urn%3Aietf%3Awg%3Aoauth%3A2.0%3Aoob&scope=email%20https%3A%2F%2Fwww.googleapis.com%2Fauth%2Fdocs.test%20https%3A%2F%2Fwww.googleapis.com%2Fauth%2Fdrive%20https%3A%2F%2Fwww.googleapis.com%2Fauth%2Fdrive.photos.readonly%20https%3A%2F%2Fwww.googleapis.com%2Fauth%2Fpeopleapi.readonly&response_type=code\n",
            "\n",
            "Enter your authorization code:\n",
            "··········\n",
            "Mounted at /content/gdrive\n"
          ],
          "name": "stdout"
        }
      ]
    },
    {
      "cell_type": "markdown",
      "metadata": {
        "id": "mJwTWQq5QgqG",
        "colab_type": "text"
      },
      "source": [
        "Import prednet files from github\n",
        "\n",
        "Load files and locally unzip images\n",
        "\n",
        "Create image lists"
      ]
    },
    {
      "cell_type": "code",
      "metadata": {
        "id": "qycwVOrwQkYC",
        "colab_type": "code",
        "outputId": "2f384f09-3312-445f-968c-1a7efb39a57b",
        "colab": {
          "base_uri": "https://localhost:8080/",
          "height": 136
        }
      },
      "source": [
        " !rm -r chainer_prednet\n",
        "  \n",
        " !git clone https://github.com/LanaSina/chainer_prednet.git"
      ],
      "execution_count": 0,
      "outputs": [
        {
          "output_type": "stream",
          "text": [
            "rm: cannot remove 'chainer_prednet': No such file or directory\n",
            "Cloning into 'chainer_prednet'...\n",
            "remote: Enumerating objects: 40, done.\u001b[K\n",
            "remote: Counting objects: 100% (40/40), done.\u001b[K\n",
            "remote: Compressing objects: 100% (29/29), done.\u001b[K\n",
            "remote: Total 40 (delta 12), reused 30 (delta 7), pack-reused 0\u001b[K\n",
            "Unpacking objects: 100% (40/40), done.\n"
          ],
          "name": "stdout"
        }
      ]
    },
    {
      "cell_type": "code",
      "metadata": {
        "id": "3oMX2k1nUK2l",
        "colab_type": "code",
        "outputId": "1dd07d16-b23e-44bf-ab24-74b992266511",
        "colab": {
          "base_uri": "https://localhost:8080/",
          "height": 71
        }
      },
      "source": [
        "%load chainer_prednet/PredNet/net.py\n",
        "%load chainer_prednet/PredNet/main.py\n",
        "\n",
        "# unzip images\n",
        "!mkdir 'fpsi'\n",
        "# replace with the path to your drive\n",
        "!unzip -q 'gdrive/My Drive/AI/prednet_chainer/images.zip' -d 'fpsi/'\n"
      ],
      "execution_count": 0,
      "outputs": [
        {
          "output_type": "stream",
          "text": [
            "mkdir: cannot create directory ‘fpsi’: File exists\n",
            "unzip:  cannot find or open gdrive/My Drive/AI/prednet_chainer/images.zip, gdrive/My Drive/AI/prednet_chainer/images.zip.zip or gdrive/My Drive/AI/prednet_chainer/images.zip.ZIP.\n"
          ],
          "name": "stdout"
        }
      ]
    },
    {
      "cell_type": "code",
      "metadata": {
        "id": "ttZAM5EWo1yU",
        "colab_type": "code",
        "outputId": "aeabfdec-a8fe-4108-e9a4-b7ffe6358f1e",
        "colab": {
          "base_uri": "https://localhost:8080/",
          "height": 119
        }
      },
      "source": [
        "# just build text files\n",
        "%run 'chainer_prednet/generate_imagelist.py' 'gdrive/My Drive/AI/prednet_chainer/' 10"
      ],
      "execution_count": 0,
      "outputs": [
        {
          "output_type": "stream",
          "text": [
            "(10, ' images')\n",
            "[8. 2.]\n",
            "\n",
            "Save gdrive/My Drive/AI/prednet_chainer/train_list.txt\n",
            "Save gdrive/My Drive/AI/prednet_chainer/test_list.txt\n",
            "Done.\n"
          ],
          "name": "stdout"
        }
      ]
    },
    {
      "cell_type": "code",
      "metadata": {
        "id": "jK47EWe2XHS8",
        "colab_type": "code",
        "outputId": "2141f122-8e36-4d4d-bee6-81fa73d1a4f2",
        "colab": {
          "base_uri": "https://localhost:8080/",
          "height": 368
        }
      },
      "source": [
        "%run 'chainer_prednet/PredNet/main.py' --images 'fpsi/' -g 0 --period 500000"
      ],
      "execution_count": 0,
      "outputs": [
        {
          "output_type": "stream",
          "text": [
            "Running on a GPU\n"
          ],
          "name": "stdout"
        },
        {
          "output_type": "error",
          "ename": "IOError",
          "evalue": "ignored",
          "traceback": [
            "\u001b[0;31m\u001b[0m",
            "\u001b[0;31mIOError\u001b[0mTraceback (most recent call last)",
            "\u001b[0;32m/content/chainer_prednet/PredNet/main.py\u001b[0m in \u001b[0;36m<module>\u001b[0;34m()\u001b[0m\n\u001b[1;32m    192\u001b[0m     \u001b[0mseq\u001b[0m \u001b[0;34m=\u001b[0m \u001b[0;36m0\u001b[0m\u001b[0;34m\u001b[0m\u001b[0m\n\u001b[1;32m    193\u001b[0m     \u001b[0;32mwhile\u001b[0m \u001b[0mcount\u001b[0m \u001b[0;34m<\u001b[0m \u001b[0margs\u001b[0m\u001b[0;34m.\u001b[0m\u001b[0mperiod\u001b[0m\u001b[0;34m:\u001b[0m\u001b[0;34m\u001b[0m\u001b[0m\n\u001b[0;32m--> 194\u001b[0;31m         \u001b[0mimagelist\u001b[0m \u001b[0;34m=\u001b[0m \u001b[0mload_list\u001b[0m\u001b[0;34m(\u001b[0m\u001b[0msequencelist\u001b[0m\u001b[0;34m[\u001b[0m\u001b[0mseq\u001b[0m\u001b[0;34m]\u001b[0m\u001b[0;34m,\u001b[0m \u001b[0margs\u001b[0m\u001b[0;34m.\u001b[0m\u001b[0mroot\u001b[0m\u001b[0;34m)\u001b[0m\u001b[0;34m\u001b[0m\u001b[0m\n\u001b[0m\u001b[1;32m    195\u001b[0m         \u001b[0mprednet\u001b[0m\u001b[0;34m.\u001b[0m\u001b[0mreset_state\u001b[0m\u001b[0;34m(\u001b[0m\u001b[0;34m)\u001b[0m\u001b[0;34m\u001b[0m\u001b[0m\n\u001b[1;32m    196\u001b[0m         \u001b[0mloss\u001b[0m \u001b[0;34m=\u001b[0m \u001b[0;36m0\u001b[0m\u001b[0;34m\u001b[0m\u001b[0m\n",
            "\u001b[0;32m/content/chainer_prednet/PredNet/main.py\u001b[0m in \u001b[0;36mload_list\u001b[0;34m(path, root)\u001b[0m\n\u001b[1;32m    102\u001b[0m \u001b[0;32mdef\u001b[0m \u001b[0mload_list\u001b[0m\u001b[0;34m(\u001b[0m\u001b[0mpath\u001b[0m\u001b[0;34m,\u001b[0m \u001b[0mroot\u001b[0m\u001b[0;34m)\u001b[0m\u001b[0;34m:\u001b[0m\u001b[0;34m\u001b[0m\u001b[0m\n\u001b[1;32m    103\u001b[0m     \u001b[0mtuples\u001b[0m \u001b[0;34m=\u001b[0m \u001b[0;34m[\u001b[0m\u001b[0;34m]\u001b[0m\u001b[0;34m\u001b[0m\u001b[0m\n\u001b[0;32m--> 104\u001b[0;31m     \u001b[0;32mfor\u001b[0m \u001b[0mline\u001b[0m \u001b[0;32min\u001b[0m \u001b[0mopen\u001b[0m\u001b[0;34m(\u001b[0m\u001b[0mpath\u001b[0m\u001b[0;34m)\u001b[0m\u001b[0;34m:\u001b[0m\u001b[0;34m\u001b[0m\u001b[0m\n\u001b[0m\u001b[1;32m    105\u001b[0m         \u001b[0mpair\u001b[0m \u001b[0;34m=\u001b[0m \u001b[0mline\u001b[0m\u001b[0;34m.\u001b[0m\u001b[0mstrip\u001b[0m\u001b[0;34m(\u001b[0m\u001b[0;34m)\u001b[0m\u001b[0;34m.\u001b[0m\u001b[0msplit\u001b[0m\u001b[0;34m(\u001b[0m\u001b[0;34m)\u001b[0m\u001b[0;34m\u001b[0m\u001b[0m\n\u001b[1;32m    106\u001b[0m         \u001b[0mtuples\u001b[0m\u001b[0;34m.\u001b[0m\u001b[0mappend\u001b[0m\u001b[0;34m(\u001b[0m\u001b[0mos\u001b[0m\u001b[0;34m.\u001b[0m\u001b[0mpath\u001b[0m\u001b[0;34m.\u001b[0m\u001b[0mjoin\u001b[0m\u001b[0;34m(\u001b[0m\u001b[0mroot\u001b[0m\u001b[0;34m,\u001b[0m \u001b[0mpair\u001b[0m\u001b[0;34m[\u001b[0m\u001b[0;36m0\u001b[0m\u001b[0;34m]\u001b[0m\u001b[0;34m)\u001b[0m\u001b[0;34m)\u001b[0m\u001b[0;34m\u001b[0m\u001b[0m\n",
            "\u001b[0;31mIOError\u001b[0m: [Errno 2] No such file or directory: 'fpsi/train_list.txt'"
          ]
        }
      ]
    },
    {
      "cell_type": "code",
      "metadata": {
        "id": "ANDfJrhqP1St",
        "colab_type": "code",
        "colab": {}
      },
      "source": [
        "from google.colab import files\n",
        "files.download('models/500000.model') \n",
        "files.download('models/500000.state') "
      ],
      "execution_count": 0,
      "outputs": []
    },
    {
      "cell_type": "code",
      "metadata": {
        "id": "0iUghImybAE5",
        "colab_type": "code",
        "outputId": "3472c97c-a3ed-4eea-dbef-04c2313f3e47",
        "colab": {
          "base_uri": "https://localhost:8080/",
          "height": 85
        }
      },
      "source": [
        "%run 'chainer_prednet/PredNet/main.py' --images 'gdrive/My Drive/AI/prednet_chainer/' --initmodel '500000.model' --test\n"
      ],
      "execution_count": 0,
      "outputs": [
        {
          "output_type": "stream",
          "text": [
            "Running on a CPU\n",
            "Load model from 500000.model\n",
            "seq  0  frameNo  0\n",
            "seq  0  frameNo  1\n"
          ],
          "name": "stdout"
        }
      ]
    }
  ]
}